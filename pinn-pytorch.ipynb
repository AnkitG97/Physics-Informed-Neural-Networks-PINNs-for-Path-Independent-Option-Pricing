{
 "cells": [
  {
   "cell_type": "code",
   "execution_count": 1,
   "id": "8477e4fc-c20a-4b23-a4c3-96e000ca3e53",
   "metadata": {},
   "outputs": [],
   "source": [
    "import torch\n",
    "import torch.nn as nn\n",
    "import numpy as np\n",
    "from scipy.stats import norm\n",
    "import matplotlib.pyplot as plt"
   ]
  },
  {
   "cell_type": "code",
   "execution_count": 48,
   "id": "3de7ef16-8d7b-4ab4-b2a8-dcc7a4782ab2",
   "metadata": {},
   "outputs": [],
   "source": [
    "# Define the neural network model\n",
    "class PINN(nn.Module):\n",
    "    def __init__(self):\n",
    "        super(PINN, self).__init__()\n",
    "        self.net = nn.Sequential(\n",
    "            nn.Linear(2, 50),  # Input: [S, tau]\n",
    "            nn.Tanh(),\n",
    "            nn.Linear(50, 50),\n",
    "            nn.Tanh(),\n",
    "            nn.Linear(50, 50),\n",
    "            nn.Tanh(),\n",
    "            nn.Linear(50, 1)   # Output: C\n",
    "        )\n",
    "\n",
    "    def forward(self, S, tau):\n",
    "        inputs = torch.cat([S, tau], dim=1)\n",
    "        return self.net(inputs)\n",
    "\n",
    "# Define the loss function\n",
    "def loss_function(model, S_pde, tau_pde, S_init, tau_init, S_bnd0, tau_bnd0, S_bnd_max, tau_bnd_max, K, r, sigma):\n",
    "    # PDE loss\n",
    "    S_pde.requires_grad_(True)\n",
    "    tau_pde.requires_grad_(True)\n",
    "    C_pde = model(S_pde, tau_pde)\n",
    "    C_tau = torch.autograd.grad(C_pde, tau_pde, grad_outputs=torch.ones_like(C_pde), create_graph=True)[0]\n",
    "    C_S = torch.autograd.grad(C_pde, S_pde, grad_outputs=torch.ones_like(C_pde), create_graph=True)[0]\n",
    "    C_SS = torch.autograd.grad(C_S, S_pde, grad_outputs=torch.ones_like(C_S), create_graph=True)[0]\n",
    "    r_pde = -C_tau + 0.5 * sigma**2 * S_pde**2 * C_SS + r * S_pde * C_S - r * C_pde\n",
    "    loss_pde = torch.mean(r_pde**2)\n",
    "\n",
    "\n",
    "    # Initial condition\n",
    "    C_init = model(S_init, tau_init)\n",
    "    payoff = torch.max(S_init - K, torch.zeros_like(S_init))\n",
    "    loss_init = torch.mean((C_init - payoff)**2)\n",
    "\n",
    "    # Boundary conditions\n",
    "    C_bnd0 = model(S_bnd0, tau_bnd0)\n",
    "    loss_bnd0 = torch.mean(C_bnd0**2)\n",
    "    C_bnd_max = model(S_bnd_max, tau_bnd_max)\n",
    "    asymptotic = S_bnd_max - K * torch.exp(-r * tau_bnd_max)\n",
    "    loss_bnd_max = torch.mean((C_bnd_max - asymptotic)**2)\n",
    "\n",
    "    return loss_pde + loss_init + loss_bnd0 + loss_bnd_max\n",
    "\n",
    "    \n",
    "\n",
    "# Black-Scholes analytical solution\n",
    "def black_scholes_call(S, tau, K, r, sigma):\n",
    "    if tau == 0:\n",
    "        return np.maximum(S - K, 0)\n",
    "    d1 = (np.log(S / K) + (r + 0.5 * sigma**2) * tau) / (sigma * np.sqrt(tau))\n",
    "    d2 = d1 - sigma * np.sqrt(tau)\n",
    "    return S * norm.cdf(d1) - K * np.exp(-r * tau) * norm.cdf(d2)\n",
    "\n",
    "\n",
    "    "
   ]
  },
  {
   "cell_type": "code",
   "execution_count": 3,
   "id": "4aa721d4-cac0-499c-a310-58d822377878",
   "metadata": {},
   "outputs": [],
   "source": [
    "# Parameters\n",
    "K = 100\n",
    "r = 0.05\n",
    "sigma = 0.2\n",
    "T = 1\n",
    "S_max = 300\n",
    "\n",
    "# Generate training data\n",
    "N_pde = 10000\n",
    "N_init = 1000\n",
    "N_bnd = 1000\n",
    "\n",
    "S_pde = torch.rand(N_pde, 1) * S_max\n",
    "tau_pde = torch.rand(N_pde, 1) * T\n",
    "\n",
    "S_init = torch.rand(N_init, 1) * S_max\n",
    "tau_init = torch.zeros_like(S_init)\n",
    "\n",
    "tau_bnd = torch.rand(N_bnd, 1) * T\n",
    "S_bnd0 = torch.zeros_like(tau_bnd)\n",
    "S_bnd_max = torch.ones_like(tau_bnd) * S_max\n",
    "\n",
    "# Model, optimizer\n",
    "model = PINN()\n",
    "optimizer = torch.optim.Adam(model.parameters(), lr=0.001)"
   ]
  },
  {
   "cell_type": "code",
   "execution_count": null,
   "id": "ca1bd77f-b39b-474c-a7a2-19cefe9d8227",
   "metadata": {},
   "outputs": [],
   "source": []
  },
  {
   "cell_type": "code",
   "execution_count": 4,
   "id": "ae0bca41-591a-4488-8f1c-d0ef8a27994d",
   "metadata": {},
   "outputs": [
    {
     "name": "stdout",
     "output_type": "stream",
     "text": [
      "Epoch 0, Loss: 49884.28515625\n",
      "Epoch 1000, Loss: 26119.298828125\n",
      "Epoch 2000, Loss: 13220.626953125\n",
      "Epoch 3000, Loss: 5831.369140625\n",
      "Epoch 4000, Loss: 2085.731201171875\n",
      "Epoch 5000, Loss: 589.635498046875\n",
      "Epoch 6000, Loss: 160.63734436035156\n",
      "Epoch 7000, Loss: 51.74864196777344\n",
      "Epoch 8000, Loss: 2.018723487854004\n",
      "Epoch 9000, Loss: 214.5072021484375\n"
     ]
    }
   ],
   "source": [
    "# Training loop\n",
    "for epoch in range(10000):\n",
    "    optimizer.zero_grad()\n",
    "    loss = loss_function(model, S_pde, tau_pde, S_init, tau_init, S_bnd0, tau_bnd, S_bnd_max, tau_bnd, K, r, sigma)\n",
    "    loss.backward()\n",
    "    optimizer.step()\n",
    "    if epoch % 1000 == 0:\n",
    "        print(f'Epoch {epoch}, Loss: {loss.item()}')"
   ]
  },
  {
   "cell_type": "code",
   "execution_count": 11,
   "id": "a1aa26ba-b252-4901-97a2-59ac6faa6f04",
   "metadata": {},
   "outputs": [
    {
     "data": {
      "text/plain": [
       "torch.Size([101, 1])"
      ]
     },
     "execution_count": 11,
     "metadata": {},
     "output_type": "execute_result"
    }
   ],
   "source": [
    "tau_eval.shape"
   ]
  },
  {
   "cell_type": "code",
   "execution_count": 29,
   "id": "bb1c69c4-00e0-47d7-942e-6ce9ae308fd0",
   "metadata": {},
   "outputs": [],
   "source": [
    "def generate_t(T, steps, M, dt):\n",
    "    t_temp = np.linspace(1e-6, T - 1e-6, steps + 1, dtype=np.float32)\n",
    "    t_temp = T - t_temp\n",
    "    return np.tile(t_temp, (M, 1))"
   ]
  },
  {
   "cell_type": "code",
   "execution_count": 49,
   "id": "43da2f54-f4d5-4918-910d-12ce43377c92",
   "metadata": {},
   "outputs": [
    {
     "name": "stderr",
     "output_type": "stream",
     "text": [
      "/var/folders/7p/6nnxvlyx16n4w51hy81l24yr0000gq/T/ipykernel_60202/378770064.py:52: RuntimeWarning: divide by zero encountered in log\n",
      "  d1 = (np.log(S / K) + (r + 0.5 * sigma**2) * tau) / (sigma * np.sqrt(tau))\n"
     ]
    },
    {
     "data": {
      "image/png": "[encoded data removed]",
      "text/plain": [
       "<Figure size 640x480 with 1 Axes>"
      ]
     },
     "metadata": {},
     "output_type": "display_data"
    }
   ],
   "source": [
    "# Evaluation\n",
    "S_eval = torch.linspace(0, S_max, 100).view(-1, 1)\n",
    "#S_eval = torch.from_numpy(S_eval).float()\n",
    "\n",
    "\n",
    "tau_eval = torch.ones_like(S_eval) * T\n",
    "#tau_eval = torch.from_numpy(S_eval).float()\n",
    "\n",
    "#tau_eval = generate_t(T, steps, 1, 0.01).T\n",
    "#tau_eval = torch.from_numpy(tau_eval).float()\n",
    "\n",
    "C_nn = model(S_eval, tau_eval).detach().numpy()\n",
    "C_bs = [black_scholes_call(S.item(), T, K, r, sigma) for S in S_eval]\n",
    "#C_bs = black_scholes_call(S_eval.numpy().reshape(-1), K, r, sigma, tau_eval.numpy().reshape(-1), T)\n",
    "\n",
    "# Plot results\n",
    "plt.plot(S_eval.numpy(), C_nn, label='PINN')\n",
    "plt.plot(S_eval.numpy(), C_bs, label='Black-Scholes')\n",
    "plt.xlabel('Stock Price (S)')\n",
    "plt.ylabel('Option Price (C)')\n",
    "plt.legend()\n",
    "plt.show()\n",
    "\n",
    "\n"
   ]
  },
  {
   "cell_type": "code",
   "execution_count": null,
   "id": "7921100e-0f38-43c9-b43b-63356b54c532",
   "metadata": {},
   "outputs": [],
   "source": []
  },
  {
   "cell_type": "code",
   "execution_count": null,
   "id": "979fe2df-abca-4df7-a91e-1186f799fdab",
   "metadata": {},
   "outputs": [],
   "source": []
  },
  {
   "cell_type": "code",
   "execution_count": null,
   "id": "37fc43ca-42c2-4380-b6f9-f14df7697bff",
   "metadata": {},
   "outputs": [],
   "source": []
  },
  {
   "cell_type": "code",
   "execution_count": null,
   "id": "1012c984-3ba7-4848-964e-0e73545f7d43",
   "metadata": {},
   "outputs": [],
   "source": []
  },
  {
   "cell_type": "code",
   "execution_count": null,
   "id": "431e1d8d-8337-47b3-a3a4-e32ae53da16b",
   "metadata": {},
   "outputs": [],
   "source": []
  },
  {
   "cell_type": "code",
   "execution_count": null,
   "id": "6261a4a5-b14f-4426-b714-61e1a00c1426",
   "metadata": {},
   "outputs": [],
   "source": []
  },
  {
   "cell_type": "code",
   "execution_count": null,
   "id": "418b942a-3c85-4dc3-a21f-0d577f47a0f8",
   "metadata": {},
   "outputs": [],
   "source": []
  },
  {
   "cell_type": "code",
   "execution_count": null,
   "id": "65785607-8f5d-4882-b4fc-6ad12d76ea76",
   "metadata": {},
   "outputs": [],
   "source": []
  }
 ],
 "metadata": {
  "kernelspec": {
   "display_name": "Python 3 (ipykernel)",
   "language": "python",
   "name": "python3"
  },
  "language_info": {
   "codemirror_mode": {
    "name": "ipython",
    "version": 3
   },
   "file_extension": ".py",
   "mimetype": "text/x-python",
   "name": "python",
   "nbconvert_exporter": "python",
   "pygments_lexer": "ipython3",
   "version": "3.11.0"
  }
 },
 "nbformat": 4,
 "nbformat_minor": 5
}
