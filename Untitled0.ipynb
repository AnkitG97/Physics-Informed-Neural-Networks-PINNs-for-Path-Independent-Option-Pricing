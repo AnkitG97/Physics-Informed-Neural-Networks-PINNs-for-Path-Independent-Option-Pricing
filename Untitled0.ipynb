{
  "nbformat": 4,
  "nbformat_minor": 0,
  "metadata": {
    "colab": {
      "provenance": []
    },
    "kernelspec": {
      "name": "python3",
      "display_name": "Python 3"
    },
    "language_info": {
      "name": "python"
    }
  },
  "cells": [
    {
      "cell_type": "code",
      "execution_count": 1,
      "metadata": {
        "id": "p_-vpfnyoc1-"
      },
      "outputs": [],
      "source": [
        "import sys\n",
        "sys.path.append('/content/drive/MyDrive/exotic options project/part 3')"
      ]
    },
    {
      "cell_type": "markdown",
      "source": [
        "## Overview\n",
        "\n",
        "This project implements Physics-Informed Neural Networks (PINNs) to solve the Black-Scholes Partial Differential Equation (PDE) for pricing path-independent vanilla options, such as European call and put options.\n",
        "\n",
        "The model enforces the PDE structure directly inside the neural network loss function, allowing it to learn the option pricing function without traditional finite-difference or Monte Carlo methods.\n",
        "\n",
        "## Key Features\n",
        "\n",
        "Black-Scholes PDE constraint directly in the neural network training.\n",
        "Feedforward Neural Network model (no LSTM needed for path-independence).\n",
        "Automatic differentiation for time and space derivatives.\n",
        "Terminal payoff matching (e.g., max(S-K, 0) for a call option).\n",
        "Customizable payoff functions.\n",
        "\n",
        "## The loss function is:\n",
        "\n",
        "$$\n",
        "\\boxed{\n",
        "\\mathcal{L}(\\theta) = \\underbrace{ \\frac{1}{M \\times \\text{steps}} \\sum_{k=0}^{\\text{steps}} \\sum_{m=1}^{M} \\left( \\mathcal{R}(t_k, x_k^m) \\right)^2 }_{\\text{PINN component (PDE residual)}} + \\underbrace{ \\lambda \\times \\frac{1}{M} \\sum_{m=1}^{M} \\left( f_\\theta(T, x_T^m) - g(x_T^m) \\right)^2 }_{\\text{Terminal condition component}}\n",
        "}\n",
        "$$\n",
        "\n",
        "where:\n",
        "\n",
        "- $( \\mathcal{R}(t,x) $) is the **PDE residual**:\n",
        "\n",
        "$$\n",
        "\\boxed{\n",
        "\\mathcal{R}(t,x) = \\partial_t f_\\theta(t,x) + (r-q)x\\partial_x f_\\theta(t,x) + \\frac{1}{2}\\sigma^2 x^2 \\partial_{xx} f_\\theta(t,x) - r f_\\theta(t,x)\n",
        "}\n",
        "$$\n",
        "\n",
        "- $( g(x) = \\max(x-K,0) $) is the **terminal payoff function**.\n",
        "- $( \\lambda = \\text{steps} $) (in your code scaling) or tunable as a hyperparameter.\n"
      ],
      "metadata": {
        "id": "5TstMTeLAfO9"
      }
    },
    {
      "cell_type": "code",
      "source": [
        "import numpy as np\n",
        "import matplotlib.pyplot as plt\n",
        "%matplotlib inline\n",
        "\n",
        "\n",
        "import time as ttt\n",
        "import os\n",
        "import pprint\n",
        "\n",
        "from tensorflow.python.keras.backend import set_session\n",
        "\n",
        "\n",
        "from functools import partial\n",
        "import tensorflow.compat.v1 as tf\n",
        "tf.disable_v2_behavior()\n",
        "sess = tf.Session()\n",
        "\n",
        "\n",
        "\n",
        "# Import custom helper functions\n",
        "from PPDE import (\n",
        "    generate_t,\n",
        "    Create_paths,\n",
        "    loss_function,\n",
        "    train_ppde_model,\n",
        "    visualize_model_output,\n",
        ")"
      ],
      "metadata": {
        "colab": {
          "base_uri": "https://localhost:8080/"
        },
        "id": "Fw08_4drogr3",
        "outputId": "1e638801-3f59-424a-e049-426a1870fd91"
      },
      "execution_count": 2,
      "outputs": [
        {
          "output_type": "stream",
          "name": "stderr",
          "text": [
            "WARNING:tensorflow:From /usr/local/lib/python3.11/dist-packages/tensorflow/python/compat/v2_compat.py:98: disable_resource_variables (from tensorflow.python.ops.resource_variables_toggle) is deprecated and will be removed in a future version.\n",
            "Instructions for updating:\n",
            "non-resource variables are not supported in the long term\n"
          ]
        }
      ]
    },
    {
      "cell_type": "code",
      "source": [
        "from vanilla_options import european_true_solution, european_terminal_condition, european_geometric_payoff"
      ],
      "metadata": {
        "id": "zJ7iFwDNol6i"
      },
      "execution_count": 3,
      "outputs": []
    },
    {
      "cell_type": "code",
      "source": [
        "M = 128 # number of samples in a batch\n",
        "T = 1 # terminal time\n",
        "dt = 0.01 # detla_t = 0.01, 0.005, 0.002, 0.001\n",
        "steps = int(T/dt) # number of time steps\n",
        "t = np.linspace(0, T, steps + 1)\n",
        "r = 0.03\n",
        "q = 0.01\n",
        "sigma = 1\n",
        "x_0 = 1.0 # X_0\n",
        "# input time and path as placeholders\n",
        "path = tf.placeholder(dtype=tf.float32, shape=[M,steps+1])\n",
        "time = tf.placeholder(dtype = tf.float32, shape = [M, steps +1 + 1]) # extra after T\n",
        "\n",
        "Epoch=50\n",
        "clip_norm=5.0\n",
        "learning_rate_start=0.01\n"
      ],
      "metadata": {
        "id": "x8qnfAMRom_3"
      },
      "execution_count": 4,
      "outputs": []
    },
    {
      "cell_type": "code",
      "source": [
        "import numpy as np\n",
        "import tensorflow.compat.v1 as tf\n",
        "from functools import partial\n",
        "tf.disable_v2_behavior()\n",
        "\n",
        "# Fixed parameters\n",
        "M = 128\n",
        "T = 1\n",
        "dt = 0.01\n",
        "steps = int(T / dt)\n",
        "t = np.linspace(0, T, steps + 1)\n",
        "\n",
        "r = 0.03\n",
        "q = 0.01\n",
        "sigma = 1.0\n",
        "x_0 = 1.0\n",
        "\n",
        "Epoch = 15\n",
        "clip_norm = 5.0\n",
        "learning_rate_start = 0.01\n",
        "\n",
        "# TensorFlow placeholders\n",
        "path = tf.placeholder(dtype=tf.float32, shape=[M, steps + 1])\n",
        "time = tf.placeholder(dtype=tf.float32, shape=[M, steps + 2])  # steps + 1 + 1\n",
        "\n",
        "def pipeline(european_geometric_payoff, european_true_solution, european_terminal_condition, args, sess, generate_t):\n",
        "    option_type = args[\"option_type\"]\n",
        "    Strike = args[\"Strike\"]\n",
        "\n",
        "    # Build all custom functions\n",
        "    custom_terminal_fn = partial(\n",
        "        european_terminal_condition,\n",
        "        Strike=Strike\n",
        "    )\n",
        "\n",
        "    custom_payoff_fn = partial(\n",
        "        european_geometric_payoff,\n",
        "        Strike=Strike,\n",
        "    )\n",
        "\n",
        "    custom_loss_fn = partial(\n",
        "        loss_function,\n",
        "        payoff_fn=custom_payoff_fn,\n",
        "        r=r,\n",
        "        q=q,\n",
        "        sigma=sigma,\n",
        "        dt=dt,\n",
        "        steps=steps\n",
        "    )\n",
        "\n",
        "    custom_create_paths = partial(\n",
        "        Create_paths,\n",
        "        x_0=x_0,\n",
        "        r=r,\n",
        "        q=q,\n",
        "        sigma=sigma,\n",
        "        T=T,\n",
        "        steps=steps\n",
        "    )\n",
        "\n",
        "    custom_true_solution = partial(\n",
        "        european_true_solution,\n",
        "        x_0=x_0,\n",
        "        r=r,\n",
        "        q=q,\n",
        "        sigma=sigma,\n",
        "        T=T,\n",
        "        steps=steps,\n",
        "        Strike=Strike,\n",
        "        t=t,\n",
        "        dt=dt,\n",
        "    )\n",
        "\n",
        "    # Train the model\n",
        "    solution, time_derivative, space_derivative, space_2nd_derivative = train_ppde_model(\n",
        "        sess=sess,\n",
        "        loss_function=custom_loss_fn,\n",
        "        Create_paths=custom_create_paths,\n",
        "        generate_t=generate_t,\n",
        "        true_solution=custom_true_solution,\n",
        "        terminal_condition=custom_terminal_fn,\n",
        "        time=time,\n",
        "        path=path,\n",
        "        T=T,\n",
        "        M=M,\n",
        "        dt=dt,\n",
        "        steps=steps,\n",
        "        Epoch=Epoch,\n",
        "        clip_norm=clip_norm,\n",
        "        learning_rate_start=learning_rate_start\n",
        "    )\n",
        "\n",
        "    # Visualize the output\n",
        "    visualize_model_output(\n",
        "        sess=sess,\n",
        "        solution=solution,\n",
        "        time_derivative=time_derivative,\n",
        "        space_derivative=space_derivative,\n",
        "        space_2nd_derivative=space_2nd_derivative,\n",
        "        true_solution_fn=custom_true_solution,\n",
        "        terminal_condition_fn=custom_terminal_fn,\n",
        "        Create_paths=custom_create_paths,\n",
        "        generate_t=generate_t,\n",
        "        T=T,\n",
        "        M=M,\n",
        "        dt=dt,\n",
        "        steps=steps,\n",
        "        path=path,\n",
        "        time=time\n",
        "    )\n"
      ],
      "metadata": {
        "id": "6RhjPjYvoxK_"
      },
      "execution_count": 5,
      "outputs": []
    },
    {
      "cell_type": "code",
      "source": [
        "vanilla_option_test_cases = [\n",
        "    # Vanilla Options\n",
        "    {\"option_type\": \"call\", \"x_0\": 1.0, \"Strike\": 0.4}\n",
        "\n",
        "]"
      ],
      "metadata": {
        "id": "s_-rz_jMoqhx"
      },
      "execution_count": 6,
      "outputs": []
    },
    {
      "cell_type": "code",
      "source": [
        "for test_case in vanilla_option_test_cases:\n",
        "\n",
        "\n",
        "    args = {\n",
        "        \"option_type\": \"call\" if \"call\" in test_case[\"option_type\"] else \"put\",\n",
        "        \"Strike\": test_case[\"Strike\"],\n",
        "    }\n",
        "    with tf.Session() as sess:\n",
        "      pipeline(european_geometric_payoff, european_true_solution, european_terminal_condition, args=args, sess=sess, generate_t=generate_t)\n",
        "\n"
      ],
      "metadata": {
        "colab": {
          "base_uri": "https://localhost:8080/"
        },
        "id": "bUu_fXJ3oyWj",
        "outputId": "ddb1caa9-16d2-4b96-f743-285c8b7ef368"
      },
      "execution_count": 7,
      "outputs": [
        {
          "output_type": "stream",
          "name": "stderr",
          "text": [
            "/usr/local/lib/python3.11/dist-packages/keras/src/layers/core/dense.py:87: UserWarning: Do not pass an `input_shape`/`input_dim` argument to a layer. When using Sequential models, prefer using an `Input(shape)` object as the first layer in the model instead.\n",
            "  super().__init__(activity_regularizer=activity_regularizer, **kwargs)\n"
          ]
        },
        {
          "output_type": "stream",
          "name": "stdout",
          "text": [
            "1th Epoch:\n",
            "training loss: 11.22924, test loss: 10.78325, learning rate: 0.01000, elapsed: 23.25s\n",
            "\n",
            "11th Epoch:\n",
            "training loss: 1.08456, test loss: 0.24920, learning rate: 0.01000, elapsed: 4.47s\n",
            "\n"
          ]
        }
      ]
    },
    {
      "cell_type": "code",
      "source": [],
      "metadata": {
        "id": "zx_osEGMuxyB"
      },
      "execution_count": null,
      "outputs": []
    }
  ]
}