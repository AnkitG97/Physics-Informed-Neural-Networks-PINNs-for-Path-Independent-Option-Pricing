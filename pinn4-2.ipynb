{
 "cells": [
  {
   "cell_type": "code",
   "execution_count": 1,
   "id": "4e7fece1-7f51-450a-b176-3cb0c94ae2da",
   "metadata": {},
   "outputs": [],
   "source": [
    "import DGM\n",
    "import tensorflow as tf\n",
    "import numpy as np\n",
    "import matplotlib.pyplot as plt\n",
    "from scipy.stats import norm\n",
    "import pandas as pd"
   ]
  },
  {
   "cell_type": "code",
   "execution_count": 2,
   "id": "76e1d4c2-92f1-46a7-bc8c-23e0d4f9dc1a",
   "metadata": {},
   "outputs": [],
   "source": [
    "# Option parameters\n",
    "r = 0.03           # Interest rate\n",
    "sigma = 0.25       # Volatility of first asset\n",
    "K = 120            # Strike\n",
    "T = 1           # Terminal time\n",
    "q = 0\n",
    "S0 = 100.0          # Initial price of first asset\n",
    "steps = 100"
   ]
  },
  {
   "cell_type": "code",
   "execution_count": 3,
   "id": "5368d584-1314-4d66-bd15-cda7102f97b8",
   "metadata": {},
   "outputs": [],
   "source": [
    "nSim_interior = 10_000     # Number of interior points\n",
    "nSim_terminal = 1_000      # Terminal condition points\n",
    "Epoch = 10_000\n",
    "S_max = 300"
   ]
  },
  {
   "cell_type": "code",
   "execution_count": null,
   "id": "7c062128-05ee-4191-803a-83c7385db2d5",
   "metadata": {},
   "outputs": [],
   "source": []
  },
  {
   "cell_type": "code",
   "execution_count": null,
   "id": "189756d7-949d-416f-b025-b4e2dd1895e1",
   "metadata": {},
   "outputs": [],
   "source": []
  },
  {
   "cell_type": "markdown",
   "id": "bd1a723b-f09a-43a2-9786-a7e87e83a681",
   "metadata": {},
   "source": [
    "### **PINN Architecture Table**\n",
    "\n",
    "| **Layer**      | **Number of Neurons** | **Input Variables**           | **Activation Function** | **Output of Layer**                                                          |\n",
    "| -------------- | --------------------- | ----------------------------- | ----------------------- | ---------------------------------------------------------------------------- |\n",
    "| Input Layer    | 2                     | $S$, $t$                   | None                    | $\\mathbf{x} = [S, t]^\\top \\in \\mathbb{R}^2$                               |\n",
    "| Hidden Layer 1 | 50                    | $\\mathbf{x} \\in \\mathbb{R}^2$ | $\\tanh$                 | $\\mathbf{z}^{(1)} = \\tanh(W^{(1)} \\mathbf{x} + b^{(1)}) \\in \\mathbb{R}^{50}$ |\n",
    "| Hidden Layer 2 | 50                    | $\\mathbf{z}^{(1)}$            | $\\tanh$                 | $\\mathbf{z}^{(2)} = \\tanh(W^{(2)} \\mathbf{z}^{(1)} + b^{(2)})$               |\n",
    "| Hidden Layer 3 | 50                    | $\\mathbf{z}^{(2)}$            | $\\tanh$                 | $\\mathbf{z}^{(3)} = \\tanh(W^{(3)} \\mathbf{z}^{(2)} + b^{(3)})$               |\n",
    "| Output Layer   | 1                     | $\\mathbf{z}^{(3)}$            | None                    | $\\widehat{V}(S, \\tau) = W^{(4)} \\mathbf{z}^{(3)} + b^{(4)} \\in \\mathbb{R}$   |\n",
    "\n"
   ]
  },
  {
   "cell_type": "code",
   "execution_count": 4,
   "id": "eab777c8-b44b-40cd-bb66-69c3e50d108f",
   "metadata": {},
   "outputs": [],
   "source": [
    "class PINN(tf.keras.Model):\n",
    "    def __init__(self):\n",
    "        super(PINN, self).__init__()\n",
    "        self.hidden1 = tf.keras.layers.Dense(50, activation='tanh')\n",
    "        self.hidden2 = tf.keras.layers.Dense(50, activation='tanh')\n",
    "        self.hidden3 = tf.keras.layers.Dense(50, activation='tanh')\n",
    "        self.output_layer = tf.keras.layers.Dense(1, activation=None)\n",
    "\n",
    "    def call(self, S, tau):\n",
    "        # Concatenate S and tau along the last axis\n",
    "        inputs = tf.concat([S, tau], axis=1)  # Shape: (batch_size, 2)\n",
    "        x = self.hidden1(inputs)\n",
    "        x = self.hidden2(x)\n",
    "        x = self.hidden3(x)\n",
    "        return self.output_layer(x)\n"
   ]
  },
  {
   "cell_type": "code",
   "execution_count": null,
   "id": "12cfa9f2-50d3-4469-af68-8fc633885443",
   "metadata": {},
   "outputs": [],
   "source": []
  },
  {
   "cell_type": "code",
   "execution_count": null,
   "id": "90164756-0e85-4333-af2e-420369a40ead",
   "metadata": {},
   "outputs": [],
   "source": []
  },
  {
   "cell_type": "markdown",
   "id": "075d0801-2e62-4320-8e82-180cbc33ad71",
   "metadata": {},
   "source": [
    "### **Sampler Output Summary**\n",
    "\n",
    "| **Variable Name** | **Shape**   | **Distribution**      | **Values Inside**        | **Purpose**                                                                                        |\n",
    "| ----------------- | ----------- | --------------------- | ------------------------ | -------------------------------------------------------------------------------------------------- |\n",
    "| `t_interior`      | (10,000, 1) | $\\mathcal{U}(0, 1)$   | Real numbers ∈ \\[0, 1]   | Time points for enforcing the Black-Scholes **PDE**                                                |\n",
    "| `S_interior`      | (10,000, 1) | $\\mathcal{U}(0, 300)$ | Stock prices ∈ \\[0, 300] | Asset values for enforcing the **PDE**                                                             |\n",
    "| `t_init`          | (1,000, 1)  | Constant              | All values = 1           | Fixed maturity time to enforce **terminal payoff condition**                                       |\n",
    "| `S_init`          | (1,000, 1)  | $\\mathcal{U}(0, 300)$ | Stock prices ∈ \\[0, 300] | Input to model at $t = 1$ to match **option payoff**                                               |\n",
    "| `t_terminal`      | (1,000, 1)  | $\\mathcal{U}(0, 1)$   | Real numbers ∈ \\[0, 1]   | Time values to apply **boundary conditions** at $S = 0$ and $S = 300$                              |\n",
    "| `S_terminal0`     | (1,000, 1)  | Constant              | All values = 0           | Left boundary condition: enforce $V(t, 0) = 0$                                                     |\n",
    "| `S_terminal1`     | (1,000, 1)  | Constant              | All values = 300         | Right boundary: enforce approximation $V(t, S_{\\max}) \\approx \\max(S_{\\max} - K e^{-r(T - t)}, 0)$ |\n",
    "\n",
    "---\n",
    "\n"
   ]
  },
  {
   "cell_type": "code",
   "execution_count": 5,
   "id": "09bada52-ccd7-4775-835c-354c4f15600c",
   "metadata": {},
   "outputs": [],
   "source": [
    "def sampler(nSim_interior, nSim_terminal, S_max):\n",
    "    ''' Sample time-space points from the function's domain '''\n",
    "    t_interior = tf.random.uniform(minval = 0, maxval = T, shape=[nSim_interior, 1])\n",
    "    S_interior = tf.random.uniform(minval = 0, maxval = S_max, shape=[nSim_interior, 1])\n",
    "\n",
    "    ##initial condition\n",
    "    t_init = tf.ones((nSim_terminal, 1))\n",
    "    S_init = tf.random.uniform(minval = 0, maxval = S_max, shape=[nSim_terminal, 1])\n",
    "\n",
    "    ##Boundary Condition\n",
    "    t_terminal = tf.random.uniform(minval = 0, maxval = T, shape=[nSim_terminal, 1])\n",
    "    S_terminal0 = tf.zeros((nSim_terminal, 1))\n",
    "    S_terminal1 = S_max * tf.ones((nSim_terminal, 1))\n",
    "    \n",
    "    return t_interior, S_interior, t_init, S_init, t_terminal, S_terminal0, S_terminal1"
   ]
  },
  {
   "cell_type": "code",
   "execution_count": null,
   "id": "85c1d8d4-9531-4792-8271-f7665130bef6",
   "metadata": {},
   "outputs": [],
   "source": []
  },
  {
   "cell_type": "code",
   "execution_count": null,
   "id": "4850a46c-e188-4670-8910-4f8ae32d95bc",
   "metadata": {},
   "outputs": [],
   "source": []
  },
  {
   "cell_type": "markdown",
   "id": "4a684830-ebad-4344-8b4d-500b2a6d5e11",
   "metadata": {},
   "source": [
    "### **1. PDE Residual Loss (L1)**\n",
    "\n",
    "In the Black-Scholes PDE:\n",
    "\n",
    "$$\n",
    "\\frac{\\partial V}{\\partial t} + r S \\frac{\\partial V}{\\partial S} + \\frac{1}{2} \\sigma^2 S^2 \\frac{\\partial^2 V}{\\partial S^2} - r V = 0\n",
    "$$\n",
    "\n",
    "You sample interior points $(t, S) \\in (0, T) \\times (0, S_{\\max})$, and enforce this PDE approximately through:\n",
    "\n",
    "$$\n",
    "\\text{diff}_V(t, S) = \\frac{\\partial V}{\\partial t}(t, S) + r S \\frac{\\partial V}{\\partial S}(t, S) + \\frac{1}{2} \\sigma^2 S^2 \\frac{\\partial^2 V}{\\partial S^2}(t, S) - r V(t, S)\n",
    "$$\n",
    "\n",
    "Then penalize deviations by computing:\n",
    "\n",
    "$$\n",
    "\\mathcal{L}_1 = \\mathbb{E}_{(t,S) \\sim \\text{Interior}} \\left[ \\left( \\text{diff}_V(t, S) \\right)^2 \\right]\n",
    "$$\n",
    "\n",
    "---\n",
    "\n",
    "### **2. Terminal Condition Loss (L2)**\n",
    "\n",
    "At maturity $t = T$, the solution must match the terminal payoff for a **European call option**:\n",
    "\n",
    "$$\n",
    "V(T, S) = \\max(S - K, 0)\n",
    "$$\n",
    "\n",
    "So, this loss enforces that:\n",
    "\n",
    "$$\n",
    "\\mathcal{L}_2 = \\mathbb{E}_{S \\sim \\text{Init}} \\left[ \\left( V(T, S) - \\max(S - K, 0) \\right)^2 \\right]\n",
    "$$\n",
    "\n",
    "---\n",
    "\n",
    "### **3. Boundary Condition at $S = 0$ (L3)**\n",
    "\n",
    "For a call option, if the underlying price is zero, the option is worthless:\n",
    "\n",
    "$$\n",
    "V(t, 0) = 0 \\quad \\forall t \\in [0, T]\n",
    "$$\n",
    "\n",
    "So the loss:\n",
    "\n",
    "$$\n",
    "\\mathcal{L}_3 = \\mathbb{E}_{t \\sim \\text{Boundary}} \\left[ \\left( V(t, 0) \\right)^2 \\right]\n",
    "$$\n",
    "\n",
    "---\n",
    "\n",
    "### **4. Boundary Condition at $S = S_{\\max}$ (L4)**\n",
    "\n",
    "At the other spatial boundary, $S = S_{\\max}$, the option behaves approximately like its intrinsic value (discounted):\n",
    "\n",
    "$$\n",
    "V(t, S_{\\max}) \\approx \\max(S_{\\max} - K e^{-r(T - t)}, 0)\n",
    "$$\n",
    "\n",
    "So the boundary loss is:\n",
    "\n",
    "$$\n",
    "\\mathcal{L}_4 = \\mathbb{E}_{t \\sim \\text{Boundary}} \\left[ \\left( V(t, S_{\\max}) - \\max(S_{\\max} - K e^{-r(T - t)}, 0) \\right)^2 \\right]\n",
    "$$\n",
    "\n",
    "---\n",
    "\n",
    "### **Final Loss**\n",
    "\n",
    "All components are combined to form the **total loss**:\n",
    "\n",
    "$$\n",
    "\\boxed{\n",
    "\\mathcal{L} = \\mathcal{L}_1 + \\mathcal{L}_2 + \\mathcal{L}_3 + \\mathcal{L}_4\n",
    "}\n",
    "$$\n",
    "\n",
    "This encourages the model to satisfy:\n",
    "\n",
    "* the PDE in the domain,\n",
    "* the terminal payoff condition,\n",
    "* the boundary condition at $S = 0$,\n",
    "* and the boundary behavior as $S \\to \\infty \\approx S_{\\max}$.\n",
    "\n"
   ]
  },
  {
   "cell_type": "code",
   "execution_count": 6,
   "id": "a414ea1e-6407-4591-920b-47002a504634",
   "metadata": {},
   "outputs": [],
   "source": [
    "@tf.function\n",
    "def loss(model, T, t_interior, S_interior, t_init, S_init, t_terminal, S_terminal0, S_terminal1):\n",
    "    ''' Compute total loss for training. '''\n",
    "    with tf.GradientTape(persistent=True) as tape:\n",
    "        tape.watch(t_interior)\n",
    "        tape.watch(S_interior)\n",
    "        \n",
    "        V = model(t_interior, S_interior)\n",
    "        \n",
    "        V_t = tape.gradient(V, t_interior)\n",
    "        V_s = tape.gradient(V, S_interior)\n",
    "        V_ss = tape.gradient(V_s, S_interior)\n",
    "\n",
    "    # 2D Black-Scholes PDE residual\n",
    "    diff_V = V_t + r * S_interior * V_s + 0.5 * sigma**2 * S_interior**2 * V_ss - r * V\n",
    "\n",
    "    L1 = tf.reduce_mean(tf.square(diff_V))\n",
    "\n",
    "    # inital condition t = T\n",
    "    C_init = model(t_init, S_init)\n",
    "    #payoff = tf.nn.relu(S_init - K * tf.exp(-r * T))\n",
    "    payoff = tf.nn.relu(S_init - K)\n",
    "    L2 = tf.reduce_mean(tf.square(C_init - payoff))\n",
    "    \n",
    "    # Terminal condition 1 S = 0\n",
    "    C_term0 = model(t_terminal, S_terminal0)\n",
    "    L3 = tf.reduce_mean(tf.square(C_term0))\n",
    "\n",
    "    # Terminal condition 2 S = S_max\n",
    "    C_term1 = model(t_terminal, S_terminal1)\n",
    "    tau = T - t_terminal\n",
    "    payoff_max = tf.nn.relu(S_terminal1 - K * tf.exp(-r * tau))\n",
    "    L4 = tf.reduce_mean(tf.square(C_term1 - payoff_max))\n",
    "    \n",
    "    return L1 + L2 + L3 + L4"
   ]
  },
  {
   "cell_type": "code",
   "execution_count": 7,
   "id": "1baf1af7-affc-461b-b728-aaba91ed13ab",
   "metadata": {},
   "outputs": [
    {
     "name": "stderr",
     "output_type": "stream",
     "text": [
      "WARNING:absl:At this time, the v2.11+ optimizer `tf.keras.optimizers.Adam` runs slowly on M1/M2 Macs, please use the legacy Keras optimizer instead, located at `tf.keras.optimizers.legacy.Adam`.\n"
     ]
    }
   ],
   "source": [
    "model = PINN()\n",
    "optimizer = tf.optimizers.Adam(learning_rate=0.001)"
   ]
  },
  {
   "cell_type": "code",
   "execution_count": null,
   "id": "320c4379-3808-4321-bded-747574f7643d",
   "metadata": {},
   "outputs": [],
   "source": []
  },
  {
   "cell_type": "code",
   "execution_count": null,
   "id": "4eb74fbc-0197-4442-8224-77ec72a77c78",
   "metadata": {},
   "outputs": [],
   "source": []
  },
  {
   "cell_type": "markdown",
   "id": "9ef1abb0-1ca9-4446-8414-ee9694baa5db",
   "metadata": {},
   "source": [
    "### **Neural Network Output**\n",
    "\n",
    "###  $\\widehat{V}_\\theta(S, t)$\n",
    "\n",
    "* This is the **output of the neural network**.\n",
    "* It represents the **predicted option price** at input $S$ (stock price) and $t$ (time).\n",
    "* The subscript $\\theta$ denotes the **dependence on the network parameters**, which include:\n",
    "\n",
    "  * Weights and biases from all layers:\n",
    "\n",
    "    $$\n",
    "    \\theta = \\left\\{ W^{(l)}, b^{(l)} \\right\\}_{l=1}^4\n",
    "    $$\n",
    "* So, you can write:\n",
    "\n",
    "  $$\n",
    "  \\widehat{V}_\\theta(S, t) = \\text{NN}_\\theta(S, t)\n",
    "  $$\n",
    "\n",
    "This is what you're training the model to approximate:\n",
    "\n",
    "$$\n",
    "\\widehat{V}_\\theta(S, t) \\approx V_{\\text{true}}(S, t)\n",
    "$$\n",
    "\n",
    "---\n",
    "\n",
    "##  **Loss Function**\n",
    "\n",
    "###  $\\mathcal{L}(\\theta)$\n",
    "\n",
    "* This is the **total loss function** used to train the model.\n",
    "* It's composed of four parts, each enforcing one component of the Black-Scholes problem:\n",
    "\n",
    "  $$\n",
    "  \\mathcal{L}(\\theta) = \\underbrace{\\mathcal{L}_\\text{PDE}}_{L_1} + \\underbrace{\\mathcal{L}_\\text{payoff}}_{L_2} + \\underbrace{\\mathcal{L}_{S=0}}_{L_3} + \\underbrace{\\mathcal{L}_{S=S_{\\max}}}_{L_4}\n",
    "  $$\n",
    "\n",
    "Each part measures mean squared error (MSE) over sampled points. Example:\n",
    "\n",
    "$$\n",
    "\\mathcal{L}_\\text{PDE} = \\mathbb{E}_{(t, S)}\\left[\\left( \\frac{\\partial \\widehat{V}_\\theta}{\\partial t} + r S \\frac{\\partial \\widehat{V}_\\theta}{\\partial S} + \\frac{1}{2} \\sigma^2 S^2 \\frac{\\partial^2 \\widehat{V}_\\theta}{\\partial S^2} - r \\widehat{V}_\\theta \\right)^2 \\right]\n",
    "$$\n",
    "\n",
    "---\n",
    "\n",
    "##  **Gradient**\n",
    "\n",
    "###  $\\nabla_\\theta \\mathcal{L}(\\theta)$\n",
    "\n",
    "* This is the **gradient of the loss function** with respect to all trainable parameters in the model:\n",
    "\n",
    "  $$\n",
    "  \\nabla_\\theta \\mathcal{L}(\\theta) = \\left[ \\frac{\\partial \\mathcal{L}}{\\partial \\theta_1}, \\frac{\\partial \\mathcal{L}}{\\partial \\theta_2}, \\ldots \\right]\n",
    "  $$\n",
    "* TensorFlow computes this using **automatic differentiation** via `tf.GradientTape()`.\n",
    "\n",
    "---\n",
    "\n",
    "##  **Gradient Descent Update Rule**\n",
    "\n",
    "After computing the gradient $\\nabla_\\theta \\mathcal{L}(\\theta)$, the parameters are updated using:\n",
    "\n",
    "$$\n",
    "\\theta \\leftarrow \\theta - \\eta \\nabla_\\theta \\mathcal{L}(\\theta)\n",
    "$$\n",
    "\n",
    "Where:\n",
    "\n",
    "* $\\eta$ is the **learning rate**\n",
    "* This update is applied using `optimizer.apply_gradients(...)`\n",
    "\n"
   ]
  },
  {
   "cell_type": "code",
   "execution_count": 8,
   "id": "f77038b2-0369-4279-9be2-2868a169257f",
   "metadata": {},
   "outputs": [],
   "source": [
    "@tf.function\n",
    "def train_step(T, t_interior, S_interior, t_init, S_init, t_terminal, S_terminal0, S_terminal1):\n",
    "    with tf.GradientTape() as tape:\n",
    "        total_loss = loss(model, T, t_interior, S_interior, t_init, S_init, t_terminal, S_terminal0, S_terminal1)\n",
    "    \n",
    "    grads = tape.gradient(total_loss, model.trainable_variables)\n",
    "    optimizer.apply_gradients(zip(grads, model.trainable_variables))\n",
    "    \n",
    "    return total_loss\n",
    "    "
   ]
  },
  {
   "cell_type": "code",
   "execution_count": 9,
   "id": "02170c7b-33ff-476f-9a74-437db0a4b161",
   "metadata": {
    "scrolled": true
   },
   "outputs": [
    {
     "name": "stderr",
     "output_type": "stream",
     "text": [
      "  0%|                                                 | 0/10000 [00:00<?, ?it/s]"
     ]
    },
    {
     "name": "stdout",
     "output_type": "stream",
     "text": [
      "WARNING:tensorflow:Calling GradientTape.gradient on a persistent tape inside its context is significantly less efficient than calling it outside the context (it causes the gradient ops to be recorded on the tape, leading to increased CPU and memory usage). Only call GradientTape.gradient inside the context if you actually want to trace the gradient in order to compute higher order derivatives.\n"
     ]
    },
    {
     "name": "stderr",
     "output_type": "stream",
     "text": [
      "WARNING:tensorflow:Calling GradientTape.gradient on a persistent tape inside its context is significantly less efficient than calling it outside the context (it causes the gradient ops to be recorded on the tape, leading to increased CPU and memory usage). Only call GradientTape.gradient inside the context if you actually want to trace the gradient in order to compute higher order derivatives.\n",
      "2025-07-01 11:19:16.097583: W tensorflow/tsl/platform/profile_utils/cpu_utils.cc:128] Failed to get CPU frequency: 0 Hz\n",
      "  0%|                                         | 9/10000 [00:00<09:03, 18.37it/s]"
     ]
    },
    {
     "name": "stdout",
     "output_type": "stream",
     "text": [
      "Total loss: 39087.80078\n"
     ]
    },
    {
     "name": "stderr",
     "output_type": "stream",
     "text": [
      " 10%|███▊                                  | 1011/10000 [00:21<02:41, 55.69it/s]"
     ]
    },
    {
     "name": "stdout",
     "output_type": "stream",
     "text": [
      "Total loss: 17693.28906\n"
     ]
    },
    {
     "name": "stderr",
     "output_type": "stream",
     "text": [
      " 20%|███████▋                              | 2010/10000 [00:41<02:30, 52.95it/s]"
     ]
    },
    {
     "name": "stdout",
     "output_type": "stream",
     "text": [
      "Total loss: 7891.87500\n"
     ]
    },
    {
     "name": "stderr",
     "output_type": "stream",
     "text": [
      " 30%|███████████▍                          | 3010/10000 [01:01<02:24, 48.33it/s]"
     ]
    },
    {
     "name": "stdout",
     "output_type": "stream",
     "text": [
      "Total loss: 2984.72046\n"
     ]
    },
    {
     "name": "stderr",
     "output_type": "stream",
     "text": [
      " 40%|███████████████▏                      | 4009/10000 [01:21<01:57, 50.88it/s]"
     ]
    },
    {
     "name": "stdout",
     "output_type": "stream",
     "text": [
      "Total loss: 952.82153\n"
     ]
    },
    {
     "name": "stderr",
     "output_type": "stream",
     "text": [
      " 50%|███████████████████                   | 5009/10000 [01:41<01:39, 49.99it/s]"
     ]
    },
    {
     "name": "stdout",
     "output_type": "stream",
     "text": [
      "Total loss: 269.35873\n"
     ]
    },
    {
     "name": "stderr",
     "output_type": "stream",
     "text": [
      " 60%|██████████████████████▊               | 6008/10000 [02:00<01:25, 46.90it/s]"
     ]
    },
    {
     "name": "stdout",
     "output_type": "stream",
     "text": [
      "Total loss: 96.13418\n"
     ]
    },
    {
     "name": "stderr",
     "output_type": "stream",
     "text": [
      " 70%|██████████████████████████▋           | 7009/10000 [02:21<00:59, 50.39it/s]"
     ]
    },
    {
     "name": "stdout",
     "output_type": "stream",
     "text": [
      "Total loss: 143.47203\n"
     ]
    },
    {
     "name": "stderr",
     "output_type": "stream",
     "text": [
      " 80%|██████████████████████████████▍       | 8007/10000 [02:40<00:41, 47.65it/s]"
     ]
    },
    {
     "name": "stdout",
     "output_type": "stream",
     "text": [
      "Total loss: 0.68129\n"
     ]
    },
    {
     "name": "stderr",
     "output_type": "stream",
     "text": [
      " 90%|██████████████████████████████████▏   | 9006/10000 [03:00<00:17, 55.64it/s]"
     ]
    },
    {
     "name": "stdout",
     "output_type": "stream",
     "text": [
      "Total loss: 0.41362\n"
     ]
    },
    {
     "name": "stderr",
     "output_type": "stream",
     "text": [
      "100%|█████████████████████████████████████| 10000/10000 [03:20<00:00, 49.99it/s]\n"
     ]
    }
   ],
   "source": [
    "from tqdm import tqdm\n",
    "for i in tqdm(range(Epoch)):\n",
    "    t_interior, S_interior, t_init, S_init, t_terminal, S_terminal0, S_terminal1 = sampler(nSim_interior, nSim_terminal, S_max)    \n",
    "    \n",
    "    total_loss = train_step(T, t_interior, S_interior, t_init, S_init, \n",
    "                            t_terminal, S_terminal0, S_terminal1)\n",
    "    if i % 1000 == 0:\n",
    "        print(f\"Total loss: {total_loss:.5f}\")\n",
    "\n",
    "\n",
    "        "
   ]
  },
  {
   "cell_type": "code",
   "execution_count": null,
   "id": "fa4eb975-74be-4f57-b9d6-1f57184dfa74",
   "metadata": {},
   "outputs": [],
   "source": []
  },
  {
   "cell_type": "code",
   "execution_count": null,
   "id": "f7eae602-03ca-464d-9997-5ced9dddf1e1",
   "metadata": {},
   "outputs": [],
   "source": []
  },
  {
   "cell_type": "markdown",
   "id": "947bc061-3cc5-4b65-9854-dff724a040a4",
   "metadata": {},
   "source": [
    "### This computes the **Black-Scholes price** $C(S, t)$ for a **European call option** with:\n",
    "\n",
    "* $S$: current asset price\n",
    "* $K$: strike price\n",
    "* $r$: risk-free interest rate\n",
    "* $\\sigma$: volatility\n",
    "* $t$: current time\n",
    "* $T$: maturity (taken as global)\n",
    "\n",
    "---\n",
    "\n",
    "## **Mathematical Formula (When $\\tau = T - t > 0$)**\n",
    "\n",
    "1. **Time to maturity**:\n",
    "\n",
    "   $$\n",
    "   \\tau = T - t\n",
    "   $$\n",
    "\n",
    "2. **Black-Scholes parameters**:\n",
    "\n",
    "   $$\n",
    "   d_1 = \\frac{\\ln\\left(\\frac{S}{K}\\right) + \\left(r + \\frac{1}{2} \\sigma^2 \\right)\\tau}{\\sigma \\sqrt{\\tau}}\n",
    "   \\quad,\\quad\n",
    "   d_2 = d_1 - \\sigma \\sqrt{\\tau}\n",
    "   $$\n",
    "\n",
    "3. **Call option price**:\n",
    "\n",
    "   $$\n",
    "   C(S, t) = S \\cdot N(d_1) - K e^{-r \\tau} \\cdot N(d_2)\n",
    "   $$\n",
    "\n",
    "   Where:\n",
    "\n",
    "   * $N(\\cdot)$: Cumulative distribution function (CDF) of the standard normal distribution\n",
    "   * $e^{-r\\tau}$: Discount factor for the strike price\n",
    "\n",
    "Mathematically:\n",
    "\n",
    "$$\n",
    "C(S, T) = \\max(S - K, 0)\n",
    "$$\n",
    "\n",
    "This is the **payoff** of a European call option at maturity.\n",
    "\n",
    "\n"
   ]
  },
  {
   "cell_type": "code",
   "execution_count": null,
   "id": "46442980-d1a2-4f93-974d-049d359f2be3",
   "metadata": {
    "scrolled": true
   },
   "outputs": [],
   "source": [
    "def black_scholes_calls(S, K, r, sigma, t):\n",
    "    tau = T - t\n",
    "    if tau == 0:\n",
    "        return np.maximum(S - K, 0)\n",
    "    d1 = (np.log(S / K) + (r + 0.5 * sigma**2) * tau) / (sigma * np.sqrt(tau))\n",
    "    d2 = d1 - sigma * np.sqrt(tau)\n",
    "    return S * norm.cdf(d1) - K * np.exp(-r * tau) * norm.cdf(d2)"
   ]
  },
  {
   "cell_type": "code",
   "execution_count": null,
   "id": "4e66a59f-c4e7-47c8-800c-9a1ad53de2f1",
   "metadata": {},
   "outputs": [],
   "source": []
  },
  {
   "cell_type": "code",
   "execution_count": null,
   "id": "30620e2a-2f85-4be4-9e29-56f18c306c38",
   "metadata": {},
   "outputs": [],
   "source": []
  },
  {
   "cell_type": "markdown",
   "id": "7e13b119-4001-4cae-abde-218bbe6e436f",
   "metadata": {},
   "source": [
    "### **Evaluation Variable Breakdown**\n",
    "\n",
    "| **Variable Name** | **Shape** | **Type / Source**        | **Values Inside**                                             | **Purpose / Description**                                                 |\n",
    "| ----------------- | --------- | ------------------------ | ------------------------------------------------------------- | ------------------------------------------------------------------------- |\n",
    "| `S_eval`          | (100, 1)  | `tf.Tensor (float32)`    | 100 values linearly spaced in $[0, S_{\\max}]$                 | Asset prices for evaluating the option at time $t = 0$ (i.e., $\\tau = T$) |\n",
    "| `tau_eval`        | (100, 1)  | `np.ndarray → tf.Tensor` | All entries = 0                                               | Time-to-maturity = T (i.e., evaluation is at the start)                    |\n",
    "| `C_nn`            | (100, 1)  | `np.ndarray`             | Predicted option prices from the **PINN** model               | Model output: $\\widehat{V}_\\theta(S, t=0)$                             |\n",
    "| `C_bs`            | (100,)    | `list of floats`         | Black-Scholes formula output for each $S \\in S_{\\text{eval}}$ | Analytical solution: $C_{\\text{BS}}(S, t=0) = \\max(S - K, 0)$          |\n",
    "\n",
    "---\n",
    "\n",
    "### ✅ **Evaluation Context**\n",
    "\n",
    "* You're comparing:\n",
    "\n",
    "  * **`C_nn`**: the PINN’s predicted price at $t = 0$ (time to maturity = T),\n",
    "  * **`C_bs`**: the exact price using the Black-Scholes formula.\n",
    "\n",
    "\n",
    "---\n"
   ]
  },
  {
   "cell_type": "code",
   "execution_count": 13,
   "id": "5fefe36b-761b-4f4d-8cc1-a4b7082acbcf",
   "metadata": {},
   "outputs": [
    {
     "name": "stderr",
     "output_type": "stream",
     "text": [
      "/var/folders/7p/6nnxvlyx16n4w51hy81l24yr0000gq/T/ipykernel_62102/2890217726.py:5: RuntimeWarning: divide by zero encountered in log\n",
      "  d1 = (np.log(S / K) + (r + 0.5 * sigma**2) * tau) / (sigma * np.sqrt(tau))\n"
     ]
    },
    {
     "data": {
      "image/png": "[encoded data removed]",
      "text/plain": [
       "<Figure size 640x480 with 1 Axes>"
      ]
     },
     "metadata": {},
     "output_type": "display_data"
    }
   ],
   "source": [
    "# Evaluation\n",
    "S_eval = np.linspace(0, S_max, 100).reshape(-1,1)\n",
    "S_eval = tf.convert_to_tensor(S_eval, dtype=tf.float32)\n",
    "tau_eval = 0 * np.ones_like(S_eval)\n",
    "\n",
    "C_nn = model(tau_eval, S_eval).numpy()\n",
    "C_bs = [black_scholes_calls(S.numpy()[0], K, r, sigma, 0) for S in S_eval]\n",
    "\n",
    "# Plot results\n",
    "plt.plot(S_eval.numpy(), C_nn, label='PINN')\n",
    "plt.plot(S_eval.numpy(), C_bs, label='Black-Scholes')\n",
    "plt.xlabel('Stock Price (S)')\n",
    "plt.ylabel('Option Price (C)')\n",
    "plt.legend()\n",
    "plt.show()"
   ]
  },
  {
   "cell_type": "code",
   "execution_count": null,
   "id": "bcf5d55b-8a17-427d-9e38-4eb6c30a71ac",
   "metadata": {},
   "outputs": [],
   "source": []
  },
  {
   "cell_type": "code",
   "execution_count": null,
   "id": "6a249088-5959-4567-8c49-52bee060bfc5",
   "metadata": {},
   "outputs": [],
   "source": []
  },
  {
   "cell_type": "code",
   "execution_count": null,
   "id": "9c4d965b-a615-4d62-a4f5-baffbe33b78e",
   "metadata": {},
   "outputs": [],
   "source": []
  }
 ],
 "metadata": {
  "kernelspec": {
   "display_name": "Python 3 (ipykernel)",
   "language": "python",
   "name": "python3"
  },
  "language_info": {
   "codemirror_mode": {
    "name": "ipython",
    "version": 3
   },
   "file_extension": ".py",
   "mimetype": "text/x-python",
   "name": "python",
   "nbconvert_exporter": "python",
   "pygments_lexer": "ipython3",
   "version": "3.11.0"
  }
 },
 "nbformat": 4,
 "nbformat_minor": 5
}
